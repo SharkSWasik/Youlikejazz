{
 "cells": [
  {
   "cell_type": "code",
   "execution_count": 3,
   "id": "bd94ba9f",
   "metadata": {},
   "outputs": [],
   "source": [
    "import preprocessing\n",
    "import postprocessing\n",
    "from preprocessing import to_gray\n",
    "from preprocessing import blur\n",
    "from preprocessing import binary_otsu\n",
    "from preprocessing import replace_pixel\n",
    "from skimage.morphology import remove_small_objects\n",
    "from postprocessing import detect\n",
    "from postprocessing import to_csv\n",
    "import argparse\n",
    "import os\n",
    "import skimage.io\n",
    "\n",
    "from skimage import exposure\n",
    "import scipy\n",
    "from skimage.morphology import skeletonize\n",
    "\n",
    "def get_skelet(image):\n",
    "    gray_image = to_gray(image)\n",
    "\n",
    "    blurred = blur(gray_image)\n",
    "\n",
    "    otsu = binary_otsu(blurred)\n",
    "\n",
    "    remove_small_objects(otsu, min_size=100000, connectivity=100, in_place=True)\n",
    "\n",
    "    dilated = skimage.morphology.binary_dilation(otsu, skimage.morphology.disk(5))\n",
    "\n",
    "    erosion = skimage.morphology.binary_erosion(dilated, skimage.morphology.disk(3))\n",
    "\n",
    "    change_pixel = replace_pixel(erosion, gray_image)\n",
    "\n",
    "    gaussian_filter = scipy.ndimage.gaussian_filter(change_pixel, sigma=1.0)\n",
    "\n",
    "    otsu = binary_otsu(gaussian_filter)\n",
    "\n",
    "    remove_small_objects(otsu, min_size=100000, connectivity=10, in_place=True)\n",
    "\n",
    "    dilated = skimage.morphology.binary_dilation(otsu, skimage.morphology.disk(20))\n",
    "\n",
    "    erosion = skimage.morphology.binary_erosion(dilated, skimage.morphology.disk(3))\n",
    "\n",
    "    skelet = skeletonize(erosion, method = 'zhang')\n",
    "\n",
    "    return skelet"
   ]
  },
  {
   "cell_type": "code",
   "execution_count": null,
   "id": "bd465520",
   "metadata": {},
   "outputs": [],
   "source": [
    "src_dir = \"../TRAIN/\"\n",
    "dst_dir = \"../RESULTS/\"\n",
    "\n",
    "if not os.path.exists(dst_dir):\n",
    "    try:\n",
    "        os.makedirs(dst_dir)\n",
    "    except:\n",
    "        print(\"fail to create directory\")\n",
    "        sys.exit()\n",
    "\n",
    "images_path = [im for im in sorted(os.listdir(src_dir)) if im[-3:] == \"jpg\"]\n",
    "images = [skimage.io.imread(src_dir + im) for im in sorted(os.listdir(src_dir)) if im[-3:] == \"jpg\"]\n",
    "\n",
    "\n",
    "for i in range(len(images)):\n",
    "    skelet = get_skelet(images[i])\n",
    "    detection = detect(skelet)\n",
    "    to_csv(detection, dst_dir + images_path[i][:-4])"
   ]
  },
  {
   "cell_type": "code",
   "execution_count": null,
   "id": "c38245f7",
   "metadata": {},
   "outputs": [],
   "source": []
  }
 ],
 "metadata": {
  "kernelspec": {
   "display_name": "Python 3",
   "language": "python",
   "name": "python3"
  },
  "language_info": {
   "codemirror_mode": {
    "name": "ipython",
    "version": 3
   },
   "file_extension": ".py",
   "mimetype": "text/x-python",
   "name": "python",
   "nbconvert_exporter": "python",
   "pygments_lexer": "ipython3",
   "version": "3.9.6"
  }
 },
 "nbformat": 4,
 "nbformat_minor": 5
}
